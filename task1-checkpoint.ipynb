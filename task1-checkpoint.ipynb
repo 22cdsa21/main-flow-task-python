{
 "cells": [
  {
   "cell_type": "code",
   "execution_count": 1,
   "id": "54835063-b7be-41f5-99ab-9e439f189667",
   "metadata": {},
   "outputs": [
    {
     "name": "stdout",
     "output_type": "stream",
     "text": [
      "Updated list: [13, 3, 4, 5, 6]\n"
     ]
    }
   ],
   "source": [
    "#creating a list\n",
    "my_list = [1,2,3,4,5]\n",
    "\n",
    "#adding an element to the list\n",
    "my_list.append(6)\n",
    "\n",
    "#removing an element from the list\n",
    "my_list.remove(2)\n",
    "\n",
    "#modifying an element in the list\n",
    "my_list[0] = 13\n",
    "\n",
    "print(\"Updated list:\",my_list)\n"
   ]
  },
  {
   "cell_type": "code",
   "execution_count": 2,
   "id": "a128c2b6-b793-4b0a-a6e0-8c21358cdd5f",
   "metadata": {},
   "outputs": [
    {
     "name": "stdout",
     "output_type": "stream",
     "text": [
      "Updated Dictionary: {'Name': 'Johan', 'City': 'Mumbai', 'Gender': 'Male'}\n"
     ]
    }
   ],
   "source": [
    "#creating a dictionary\n",
    "my_dict = {'Name': 'Johan','Age':25,'City':'Delhi'}\n",
    "\n",
    "#adding\n",
    "my_dict['Gender'] = 'Male'\n",
    "\n",
    "#removing\n",
    "del my_dict['Age']\n",
    "\n",
    "#modifying\n",
    "my_dict['City'] = 'Mumbai'\n",
    "\n",
    "print(\"Updated Dictionary:\",my_dict)"
   ]
  },
  {
   "cell_type": "code",
   "execution_count": 3,
   "id": "0f288dac-6bba-4a7d-b8e3-c66fba0510c6",
   "metadata": {},
   "outputs": [
    {
     "name": "stdout",
     "output_type": "stream",
     "text": [
      "Updated set: {1, 4, 5, 6, 7}\n"
     ]
    }
   ],
   "source": [
    "#creating a set\n",
    "my_set = {1,2,3,4,5}\n",
    "\n",
    "#adding\n",
    "my_set.add(6)\n",
    "\n",
    "#removing\n",
    "my_set.remove(2)\n",
    "\n",
    "#modifying\n",
    "my_set.discard(3)\n",
    "my_set.add(7)\n",
    "print(\"Updated set:\",my_set)"
   ]
  },
  {
   "cell_type": "code",
   "execution_count": null,
   "id": "e7ffee0d-b420-460b-8444-20c6ca655a54",
   "metadata": {},
   "outputs": [],
   "source": []
  }
 ],
 "metadata": {
  "kernelspec": {
   "display_name": "Python 3 (ipykernel)",
   "language": "python",
   "name": "python3"
  },
  "language_info": {
   "codemirror_mode": {
    "name": "ipython",
    "version": 3
   },
   "file_extension": ".py",
   "mimetype": "text/x-python",
   "name": "python",
   "nbconvert_exporter": "python",
   "pygments_lexer": "ipython3",
   "version": "3.8.10"
  }
 },
 "nbformat": 4,
 "nbformat_minor": 5
}
